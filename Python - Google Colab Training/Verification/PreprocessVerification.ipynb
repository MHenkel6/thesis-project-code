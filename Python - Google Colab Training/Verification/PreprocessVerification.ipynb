{
  "nbformat": 4,
  "nbformat_minor": 0,
  "metadata": {
    "colab": {
      "name": "PreprocessVerification.ipynb",
      "provenance": [],
      "collapsed_sections": []
    },
    "kernelspec": {
      "name": "python3",
      "display_name": "Python 3"
    }
  },
  "cells": [
    {
      "cell_type": "code",
      "metadata": {
        "id": "yNrqqWUdCdlM",
        "colab": {
          "base_uri": "https://localhost:8080/"
        },
        "outputId": "f7179709-8896-4f69-a61e-9d55bcc84808"
      },
      "source": [
        "!pip install tensorflow==1.15.0"
      ],
      "execution_count": 1,
      "outputs": [
        {
          "output_type": "stream",
          "text": [
            "Collecting tensorflow==1.15.0\n",
            "\u001b[?25l  Downloading https://files.pythonhosted.org/packages/3f/98/5a99af92fb911d7a88a0005ad55005f35b4c1ba8d75fba02df726cd936e6/tensorflow-1.15.0-cp36-cp36m-manylinux2010_x86_64.whl (412.3MB)\n",
            "\u001b[K     |████████████████████████████████| 412.3MB 23kB/s \n",
            "\u001b[?25hCollecting tensorflow-estimator==1.15.1\n",
            "\u001b[?25l  Downloading https://files.pythonhosted.org/packages/de/62/2ee9cd74c9fa2fa450877847ba560b260f5d0fb70ee0595203082dafcc9d/tensorflow_estimator-1.15.1-py2.py3-none-any.whl (503kB)\n",
            "\u001b[K     |████████████████████████████████| 512kB 43.0MB/s \n",
            "\u001b[?25hRequirement already satisfied: wheel>=0.26 in /usr/local/lib/python3.6/dist-packages (from tensorflow==1.15.0) (0.35.1)\n",
            "Collecting tensorboard<1.16.0,>=1.15.0\n",
            "\u001b[?25l  Downloading https://files.pythonhosted.org/packages/1e/e9/d3d747a97f7188f48aa5eda486907f3b345cd409f0a0850468ba867db246/tensorboard-1.15.0-py3-none-any.whl (3.8MB)\n",
            "\u001b[K     |████████████████████████████████| 3.8MB 41.3MB/s \n",
            "\u001b[?25hRequirement already satisfied: astor>=0.6.0 in /usr/local/lib/python3.6/dist-packages (from tensorflow==1.15.0) (0.8.1)\n",
            "Requirement already satisfied: absl-py>=0.7.0 in /usr/local/lib/python3.6/dist-packages (from tensorflow==1.15.0) (0.10.0)\n",
            "Collecting keras-applications>=1.0.8\n",
            "\u001b[?25l  Downloading https://files.pythonhosted.org/packages/71/e3/19762fdfc62877ae9102edf6342d71b28fbfd9dea3d2f96a882ce099b03f/Keras_Applications-1.0.8-py3-none-any.whl (50kB)\n",
            "\u001b[K     |████████████████████████████████| 51kB 6.0MB/s \n",
            "\u001b[?25hRequirement already satisfied: keras-preprocessing>=1.0.5 in /usr/local/lib/python3.6/dist-packages (from tensorflow==1.15.0) (1.1.2)\n",
            "Requirement already satisfied: protobuf>=3.6.1 in /usr/local/lib/python3.6/dist-packages (from tensorflow==1.15.0) (3.12.4)\n",
            "Requirement already satisfied: google-pasta>=0.1.6 in /usr/local/lib/python3.6/dist-packages (from tensorflow==1.15.0) (0.2.0)\n",
            "Requirement already satisfied: opt-einsum>=2.3.2 in /usr/local/lib/python3.6/dist-packages (from tensorflow==1.15.0) (3.3.0)\n",
            "Requirement already satisfied: termcolor>=1.1.0 in /usr/local/lib/python3.6/dist-packages (from tensorflow==1.15.0) (1.1.0)\n",
            "Requirement already satisfied: grpcio>=1.8.6 in /usr/local/lib/python3.6/dist-packages (from tensorflow==1.15.0) (1.33.2)\n",
            "Requirement already satisfied: wrapt>=1.11.1 in /usr/local/lib/python3.6/dist-packages (from tensorflow==1.15.0) (1.12.1)\n",
            "Requirement already satisfied: six>=1.10.0 in /usr/local/lib/python3.6/dist-packages (from tensorflow==1.15.0) (1.15.0)\n",
            "Collecting gast==0.2.2\n",
            "  Downloading https://files.pythonhosted.org/packages/4e/35/11749bf99b2d4e3cceb4d55ca22590b0d7c2c62b9de38ac4a4a7f4687421/gast-0.2.2.tar.gz\n",
            "Requirement already satisfied: numpy<2.0,>=1.16.0 in /usr/local/lib/python3.6/dist-packages (from tensorflow==1.15.0) (1.18.5)\n",
            "Requirement already satisfied: werkzeug>=0.11.15 in /usr/local/lib/python3.6/dist-packages (from tensorboard<1.16.0,>=1.15.0->tensorflow==1.15.0) (1.0.1)\n",
            "Requirement already satisfied: setuptools>=41.0.0 in /usr/local/lib/python3.6/dist-packages (from tensorboard<1.16.0,>=1.15.0->tensorflow==1.15.0) (50.3.2)\n",
            "Requirement already satisfied: markdown>=2.6.8 in /usr/local/lib/python3.6/dist-packages (from tensorboard<1.16.0,>=1.15.0->tensorflow==1.15.0) (3.3.3)\n",
            "Requirement already satisfied: h5py in /usr/local/lib/python3.6/dist-packages (from keras-applications>=1.0.8->tensorflow==1.15.0) (2.10.0)\n",
            "Requirement already satisfied: importlib-metadata; python_version < \"3.8\" in /usr/local/lib/python3.6/dist-packages (from markdown>=2.6.8->tensorboard<1.16.0,>=1.15.0->tensorflow==1.15.0) (2.0.0)\n",
            "Requirement already satisfied: zipp>=0.5 in /usr/local/lib/python3.6/dist-packages (from importlib-metadata; python_version < \"3.8\"->markdown>=2.6.8->tensorboard<1.16.0,>=1.15.0->tensorflow==1.15.0) (3.4.0)\n",
            "Building wheels for collected packages: gast\n",
            "  Building wheel for gast (setup.py) ... \u001b[?25l\u001b[?25hdone\n",
            "  Created wheel for gast: filename=gast-0.2.2-cp36-none-any.whl size=7542 sha256=79b3594bb6e07dbce0aeec8643acfebb02a8c6e48893aec4bbf3f4327e2c403e\n",
            "  Stored in directory: /root/.cache/pip/wheels/5c/2e/7e/a1d4d4fcebe6c381f378ce7743a3ced3699feb89bcfbdadadd\n",
            "Successfully built gast\n",
            "\u001b[31mERROR: tensorflow-probability 0.11.0 has requirement gast>=0.3.2, but you'll have gast 0.2.2 which is incompatible.\u001b[0m\n",
            "Installing collected packages: tensorflow-estimator, tensorboard, keras-applications, gast, tensorflow\n",
            "  Found existing installation: tensorflow-estimator 2.3.0\n",
            "    Uninstalling tensorflow-estimator-2.3.0:\n",
            "      Successfully uninstalled tensorflow-estimator-2.3.0\n",
            "  Found existing installation: tensorboard 2.3.0\n",
            "    Uninstalling tensorboard-2.3.0:\n",
            "      Successfully uninstalled tensorboard-2.3.0\n",
            "  Found existing installation: gast 0.3.3\n",
            "    Uninstalling gast-0.3.3:\n",
            "      Successfully uninstalled gast-0.3.3\n",
            "  Found existing installation: tensorflow 2.3.0\n",
            "    Uninstalling tensorflow-2.3.0:\n",
            "      Successfully uninstalled tensorflow-2.3.0\n",
            "Successfully installed gast-0.2.2 keras-applications-1.0.8 tensorboard-1.15.0 tensorflow-1.15.0 tensorflow-estimator-1.15.1\n"
          ],
          "name": "stdout"
        }
      ]
    },
    {
      "cell_type": "code",
      "metadata": {
        "id": "wXMQiNYJzEdL",
        "colab": {
          "base_uri": "https://localhost:8080/"
        },
        "outputId": "fabcaea9-5546-416d-8ea0-78d194a043db"
      },
      "source": [
        "import tensorflow as tf\n",
        "import numpy as np\n",
        "import pandas as pd\n",
        "import io\n",
        "from pathlib import Path\n",
        "# Authentication for Managing Data\n",
        "from google.colab import drive\n",
        "drive.mount('/content/drive')\n",
        "tf.enable_eager_execution()"
      ],
      "execution_count": 2,
      "outputs": [
        {
          "output_type": "stream",
          "text": [
            "Mounted at /content/drive\n"
          ],
          "name": "stdout"
        }
      ]
    },
    {
      "cell_type": "markdown",
      "metadata": {
        "id": "OLzvv6sVVQ8a"
      },
      "source": [
        "Preprocessing Functions"
      ]
    },
    {
      "cell_type": "code",
      "metadata": {
        "id": "Z635MSlBEH5w"
      },
      "source": [
        "def preprocess(dataset,seqLen = 50):\n",
        "    sats = tf.sparse.to_dense(dataset['sats'])\n",
        "    labels = tf.sparse.to_dense(dataset['label'])\n",
        "    time = tf.sparse.to_dense(dataset['time'])\n",
        "\n",
        "    x1  = tf.sparse.to_dense(dataset['x1'])\n",
        "    y1  = tf.sparse.to_dense(dataset['y1'])\n",
        "    z1  = tf.sparse.to_dense(dataset['z1'])\n",
        "    vx1 = tf.sparse.to_dense(dataset['vx1'])\n",
        "    vy1 = tf.sparse.to_dense(dataset['vy1'])\n",
        "    vz1 = tf.sparse.to_dense(dataset['vz1'])\n",
        "\n",
        "    x2  = tf.sparse.to_dense(dataset['x2'])\n",
        "    y2  = tf.sparse.to_dense(dataset['y2'])\n",
        "    z2  = tf.sparse.to_dense(dataset['z2'])\n",
        "    vx2 = tf.sparse.to_dense(dataset['vx2'])\n",
        "    vy2 = tf.sparse.to_dense(dataset['vy2'])\n",
        "    vz2 = tf.sparse.to_dense(dataset['vz2'])\n",
        "\n",
        "    x3  = tf.sparse.to_dense(dataset['x3'])\n",
        "    y3  = tf.sparse.to_dense(dataset['y3'])\n",
        "    z3  = tf.sparse.to_dense(dataset['z3'])\n",
        "    vx3 = tf.sparse.to_dense(dataset['vx3'])\n",
        "    vy3 = tf.sparse.to_dense(dataset['vy3'])\n",
        "    vz3 = tf.sparse.to_dense(dataset['vz3'])\n",
        "\n",
        "    x4  = tf.sparse.to_dense(dataset['x4'])\n",
        "    y4  = tf.sparse.to_dense(dataset['y4'])\n",
        "    z4  = tf.sparse.to_dense(dataset['z4'])\n",
        "    vx4 = tf.sparse.to_dense(dataset['vx4'])\n",
        "    vy4 = tf.sparse.to_dense(dataset['vy4'])\n",
        "    vz4 = tf.sparse.to_dense(dataset['vz4'])\n",
        "\n",
        "    data = tf.stack([x1,y1,z1,vx1,vy1,vz1,\n",
        "                     x2,y2,z2,vx2,vy2,vz2,\n",
        "                     x3,y3,z3,vx3,vy3,vz3,\n",
        "                     x4,y4,z4,vx4,vy4,vz4])\n",
        "    data = tf.transpose(data)\n",
        "    # take indices only the indices where \n",
        "    # (1) the time at the beginning of a slice is less than the time at the end \n",
        "    # of slice (ensures continuity)\n",
        "    # (2) the satellite index matches the provided one\n",
        "    indices = tf.where((time[:-seqLen]<time[seqLen:]))\n",
        "    zeros = tf.zeros_like(indices)\n",
        "    # the indices need zeros in the second column\n",
        "    begin = tf.stack([indices,zeros],axis = 1)\n",
        "    begin = tf.reshape(begin,tf.shape(begin)[:2])\n",
        "    # Construct dataset\n",
        "    dsBegin = tf.data.Dataset.from_tensor_slices(begin)\n",
        "\n",
        "    # Map dataset as sequence of length seq_len and labels\n",
        "    dataSlices = dsBegin.map(lambda x: tf.slice(data,x,[seqLen,24]))\n",
        "    # select labels for data in the same way\n",
        "    correctLabels = tf.boolean_mask(labels,(time[:-seqLen]<time[seqLen:]))\n",
        "    correctLabels = tf.reshape((correctLabels > 0),(-1,1))\n",
        "    dataLabels = tf.data.Dataset.from_tensor_slices(correctLabels)\n",
        "\n",
        "    dsReturn = tf.data.Dataset.zip((dataSlices,dataLabels))\n",
        "    return dsReturn"
      ],
      "execution_count": 69,
      "outputs": []
    },
    {
      "cell_type": "code",
      "metadata": {
        "id": "E01vtLpWhPB_"
      },
      "source": [
        "def preprocDetInd(dataset,seqLen = 50,sat=0):\n",
        "    #Set the Satellite viewpoint\n",
        "    satView = tf.constant(sat,dtype=tf.int64)\n",
        "    \n",
        "    sats = tf.sparse.to_dense(dataset['sats'])\n",
        "    labels = tf.sparse.to_dense(dataset['label'])\n",
        "    time = tf.sparse.to_dense(dataset['time'])\n",
        "\n",
        "    x1  = tf.sparse.to_dense(dataset['x1'])\n",
        "    y1  = tf.sparse.to_dense(dataset['y1'])\n",
        "    z1  = tf.sparse.to_dense(dataset['z1'])\n",
        "    vx1 = tf.sparse.to_dense(dataset['vx1'])\n",
        "    vy1 = tf.sparse.to_dense(dataset['vy1'])\n",
        "    vz1 = tf.sparse.to_dense(dataset['vz1'])\n",
        "\n",
        "    x2  = tf.sparse.to_dense(dataset['x2'])\n",
        "    y2  = tf.sparse.to_dense(dataset['y2'])\n",
        "    z2  = tf.sparse.to_dense(dataset['z2'])\n",
        "    vx2 = tf.sparse.to_dense(dataset['vx2'])\n",
        "    vy2 = tf.sparse.to_dense(dataset['vy2'])\n",
        "    vz2 = tf.sparse.to_dense(dataset['vz2'])\n",
        "\n",
        "    x3  = tf.sparse.to_dense(dataset['x3'])\n",
        "    y3  = tf.sparse.to_dense(dataset['y3'])\n",
        "    z3  = tf.sparse.to_dense(dataset['z3'])\n",
        "    vx3 = tf.sparse.to_dense(dataset['vx3'])\n",
        "    vy3 = tf.sparse.to_dense(dataset['vy3'])\n",
        "    vz3 = tf.sparse.to_dense(dataset['vz3'])\n",
        "\n",
        "    x4  = tf.sparse.to_dense(dataset['x4'])\n",
        "    y4  = tf.sparse.to_dense(dataset['y4'])\n",
        "    z4  = tf.sparse.to_dense(dataset['z4'])\n",
        "    vx4 = tf.sparse.to_dense(dataset['vx4'])\n",
        "    vy4 = tf.sparse.to_dense(dataset['vy4'])\n",
        "    vz4 = tf.sparse.to_dense(dataset['vz4'])\n",
        "\n",
        "\n",
        "    data = tf.stack([x1,y1,z1,vx1,vy1,vz1,\n",
        "                     x2,y2,z2,vx2,vy2,vz2,\n",
        "                     x3,y3,z3,vx3,vy3,vz3,\n",
        "                     x4,y4,z4,vx4,vy4,vz4])\n",
        "    data = tf.transpose(data)\n",
        "\n",
        "    indices = tf.where((time[:-seqLen]<time[seqLen:]) & tf.equal(sats[:-seqLen],satView))\n",
        "    zeros = tf.zeros_like(indices)\n",
        "    begin = tf.stack([indices,zeros],axis = 1)\n",
        "    begin = tf.reshape(begin,tf.shape(begin)[:2])\n",
        "    # Construct dataset\n",
        "    ds = tf.data.Dataset.from_tensor_slices(begin)\n",
        "\n",
        "    # Map dataset as sequence of length seq_len and labels\n",
        "\n",
        "    dataSlices = ds.map(lambda x: tf.slice(data,x,[seqLen,24]))\n",
        "    correctLabels = tf.boolean_mask(labels,(time[:-seqLen]<time[seqLen:]) & tf.equal(sats[:-seqLen],satView))\n",
        "    correctLabels = tf.reshape((correctLabels > 0),(-1,1))\n",
        "    dataLabels = tf.data.Dataset.from_tensor_slices(correctLabels)\n",
        "\n",
        "    ds3 = tf.data.Dataset.zip((dataSlices,dataLabels))\n",
        "    return ds3"
      ],
      "execution_count": 94,
      "outputs": []
    },
    {
      "cell_type": "code",
      "metadata": {
        "id": "UaJfyE_TVXU4"
      },
      "source": [
        "def decode_TFRecord(exampleProto):\n",
        "# Read TFRecord file\n",
        "    # Define features\n",
        "    featureDescription = {\n",
        "        'x1': tf.VarLenFeature(dtype=tf.float32),\n",
        "        'y1': tf.VarLenFeature(dtype=tf.float32),\n",
        "        'z1': tf.VarLenFeature(dtype=tf.float32),\n",
        "        'vx1': tf.VarLenFeature(dtype=tf.float32),\n",
        "        'vy1': tf.VarLenFeature(dtype=tf.float32),\n",
        "        'vz1':tf.VarLenFeature(dtype=tf.float32),\n",
        "        'x2': tf.VarLenFeature(dtype=tf.float32),\n",
        "        'y2': tf.VarLenFeature(dtype=tf.float32),\n",
        "        'z2': tf.VarLenFeature(dtype=tf.float32),\n",
        "        'vx2': tf.VarLenFeature(dtype=tf.float32),\n",
        "        'vy2': tf.VarLenFeature(dtype=tf.float32),\n",
        "        'vz2':tf.VarLenFeature(dtype=tf.float32),\n",
        "        'x3': tf.VarLenFeature(dtype=tf.float32),\n",
        "        'y3': tf.VarLenFeature(dtype=tf.float32),\n",
        "        'z3': tf.VarLenFeature(dtype=tf.float32),\n",
        "        'vx3': tf.VarLenFeature(dtype=tf.float32),\n",
        "        'vy3': tf.VarLenFeature(dtype=tf.float32),\n",
        "        'vz3': tf.VarLenFeature(dtype=tf.float32),\n",
        "        'x4': tf.VarLenFeature(dtype=tf.float32),\n",
        "        'y4': tf.VarLenFeature(dtype=tf.float32),\n",
        "        'z4': tf.VarLenFeature(dtype=tf.float32),\n",
        "        'vx4': tf.VarLenFeature(dtype=tf.float32),\n",
        "        'vy4': tf.VarLenFeature(dtype=tf.float32),\n",
        "        'vz4': tf.VarLenFeature(dtype=tf.float32),\n",
        "        'label': tf.VarLenFeature(dtype=tf.int64),\n",
        "        'time': tf.VarLenFeature(dtype=tf.int64),\n",
        "        'sats': tf.VarLenFeature(dtype=tf.int64)}\n",
        "\n",
        "    # Extract features from serialized data\n",
        "    return  tf.io.parse_single_example(exampleProto, featureDescription)"
      ],
      "execution_count": 23,
      "outputs": []
    },
    {
      "cell_type": "code",
      "metadata": {
        "id": "X4Y3Vu4y2vCp",
        "colab": {
          "base_uri": "https://localhost:8080/"
        },
        "outputId": "b7b59b94-a0ce-4519-ebb7-d1ba5c4df506"
      },
      "source": [
        "rootPath = '/content/drive/My Drive/Data/'\n",
        "\n",
        "register = np.zeros(1)\n",
        "while not np.any(register):\n",
        "    try:\n",
        "        with open(rootPath + 'Isolation/Testing/FileRegisterClosed.csv','r') as f:\n",
        "            register = np.genfromtxt(f,delimiter = \",\")\n",
        "    except:\n",
        "        pass\n",
        "np.shape(register)\n"
      ],
      "execution_count": 6,
      "outputs": [
        {
          "output_type": "execute_result",
          "data": {
            "text/plain": [
              "(3565, 2)"
            ]
          },
          "metadata": {
            "tags": []
          },
          "execution_count": 6
        }
      ]
    },
    {
      "cell_type": "code",
      "metadata": {
        "id": "ZxKiRRYHzMzm"
      },
      "source": [
        "# Parameter Definitions\n",
        "\n",
        "path = '/content/drive/My Drive/Data/Detection/Testing/'\n",
        "# Define model parameters\n",
        "nUnits = [50,50]\n",
        "nTimesteps = 50\n",
        "\n",
        "# Create Dataset\n",
        "cn = ['x','y','z','vx','vy','vz']\n",
        "file = '/content/drive/My Drive/Data/Detection/Testing/TestFault_1_12_0.15013000.tfrecord'\n",
        "listdir = [file,file]"
      ],
      "execution_count": 87,
      "outputs": []
    },
    {
      "cell_type": "code",
      "metadata": {
        "id": "XeIOkuq-cRz9"
      },
      "source": [
        "fileListDataset = tf.data.TFRecordDataset(listdir)\n",
        "decodedDataset = fileListDataset.map(decode_TFRecord)\n",
        "processedDataset = decodedDataset.flat_map(preprocess)\n"
      ],
      "execution_count": 95,
      "outputs": []
    },
    {
      "cell_type": "code",
      "metadata": {
        "id": "zFhA9VlmvZ77",
        "colab": {
          "base_uri": "https://localhost:8080/"
        },
        "outputId": "2585a2d7-ddab-42ff-c496-a24d75477a95"
      },
      "source": [
        "datalabels = ['x1','y1','z1','vx1' ,'vy1','vz1','x2','y2','z2','vx2','vy2','vz2','x3',\n",
        "        'y3','z3','vx3','vy3','vz3','x4','y4','z4','vx4','vy4','vz4','label','time','sats']\n",
        "\n",
        "# Take data and labels of entire run (just the decoded Dateset)\n",
        "npdataFull = np.zeros([33612,27])\n",
        "for data in decodedDataset.take(-1):\n",
        "    for number, label in enumerate(datalabels):\n",
        "        npdataFull[:,number] = tf.sparse.to_dense(data[label]).numpy()\n",
        "\n",
        "# Take data from the processed Dataset and compare if it matches with the correct\n",
        "# spot in the full set\n",
        "i = 0\n",
        "indexList = []\n",
        "incorrectLabelList = []\n",
        "for data,label in processedDataset.take(-1):\n",
        "    if i < 33612 - 51:\n",
        "        npdata = data.numpy()\n",
        "        diff = npdataFull[i:i+50,0:24] - npdata\n",
        "        while np.abs(np.sum(diff)) > 1e-9 :\n",
        "            indexList.append(i)\n",
        "            i += 1 \n",
        "            diff = npdataFull[i:i+50,0:24] - npdata\n",
        "        if np.abs(np.sum(diff)) < 1e-9 :\n",
        "            if not label.numpy() == npdataFull[i,-3]:\n",
        "                print(np.sum(diff))\n",
        "                print(label.numpy(),npdataFull[i,-3])\n",
        "                incorrectLabelList.append(i)\n",
        "        i += 1 \n",
        "print(indexList[:10])\n",
        "if len(indexList) == 250 and len(incorrectLabelList) == 0:\n",
        "    print(\"Slicing Preprocessing Successful\")\n"
      ],
      "execution_count": 96,
      "outputs": [
        {
          "output_type": "stream",
          "text": [
            "[5552, 5553, 5554, 5555, 5556, 5557, 5558, 5559, 5560, 5561]\n",
            "Slicing Preprocessing Successful\n",
            "[5552, 5553, 5554, 5555, 5556, 5557, 5558, 5559, 5560, 5561]\n",
            "Slicing Preprocessing Successful\n"
          ],
          "name": "stdout"
        }
      ]
    },
    {
      "cell_type": "code",
      "metadata": {
        "id": "D6yRzjQSiFGi",
        "outputId": "fb9dca73-023c-4456-a1be-0b671a8ffa90",
        "colab": {
          "base_uri": "https://localhost:8080/",
          "height": 249
        }
      },
      "source": [
        "# Check Satellite Selection\n",
        "satView = 1\n",
        "satProcessedDataset = decodedDataset.flat_map(lambda x: preprocDetInd(x,50,satView))\n",
        "i0 = np.where(npdataFull[:,-1] == satView)[0][0]\n",
        "i = i0\n",
        "indexList = []\n",
        "\n",
        "for data,label in satProcessedDataset.take(-1):\n",
        "    if i < i0 + 33612//6:\n",
        "        npdata = data.numpy()\n",
        "        diff = npdataFull[i:i+50,0:24] - npdata\n",
        "        while np.abs(np.sum(diff)) > 1e-9 and i < i0 + 33612//6:\n",
        "            indexList.append(i)\n",
        "            i = i+1\n",
        "            diff = npdataFull[i:i+50,0:24] - npdata\n",
        "\n",
        "    i += 1 \n",
        "print(indexList[:10])\n",
        "if len(indexList) == 50:\n",
        "    print(\"Satellite Selection Successful\")\n",
        "\n"
      ],
      "execution_count": 116,
      "outputs": [
        {
          "output_type": "error",
          "ename": "ValueError",
          "evalue": "ignored",
          "traceback": [
            "\u001b[0;31m---------------------------------------------------------------------------\u001b[0m",
            "\u001b[0;31mValueError\u001b[0m                                Traceback (most recent call last)",
            "\u001b[0;32m<ipython-input-116-89b0909043a3>\u001b[0m in \u001b[0;36m<module>\u001b[0;34m()\u001b[0m\n\u001b[1;32m     13\u001b[0m             \u001b[0mindexList\u001b[0m\u001b[0;34m.\u001b[0m\u001b[0mappend\u001b[0m\u001b[0;34m(\u001b[0m\u001b[0mi\u001b[0m\u001b[0;34m)\u001b[0m\u001b[0;34m\u001b[0m\u001b[0;34m\u001b[0m\u001b[0m\n\u001b[1;32m     14\u001b[0m             \u001b[0mi\u001b[0m \u001b[0;34m=\u001b[0m \u001b[0mi\u001b[0m\u001b[0;34m+\u001b[0m\u001b[0;36m1\u001b[0m\u001b[0;34m\u001b[0m\u001b[0;34m\u001b[0m\u001b[0m\n\u001b[0;32m---> 15\u001b[0;31m             \u001b[0mdiff\u001b[0m \u001b[0;34m=\u001b[0m \u001b[0mnpdataFull\u001b[0m\u001b[0;34m[\u001b[0m\u001b[0mi\u001b[0m\u001b[0;34m:\u001b[0m\u001b[0mi\u001b[0m\u001b[0;34m+\u001b[0m\u001b[0;36m50\u001b[0m\u001b[0;34m,\u001b[0m\u001b[0;36m0\u001b[0m\u001b[0;34m:\u001b[0m\u001b[0;36m24\u001b[0m\u001b[0;34m]\u001b[0m \u001b[0;34m-\u001b[0m \u001b[0mnpdata\u001b[0m\u001b[0;34m\u001b[0m\u001b[0;34m\u001b[0m\u001b[0m\n\u001b[0m\u001b[1;32m     16\u001b[0m \u001b[0;34m\u001b[0m\u001b[0m\n\u001b[1;32m     17\u001b[0m     \u001b[0mi\u001b[0m \u001b[0;34m+=\u001b[0m \u001b[0;36m1\u001b[0m\u001b[0;34m\u001b[0m\u001b[0;34m\u001b[0m\u001b[0m\n",
            "\u001b[0;31mValueError\u001b[0m: operands could not be broadcast together with shapes (49,24) (50,24) "
          ]
        }
      ]
    },
    {
      "cell_type": "code",
      "metadata": {
        "id": "PXZoj6GGiTSC",
        "outputId": "0d6aa2fa-e6fb-49b1-eb04-2f08c7d0b0ad",
        "colab": {
          "base_uri": "https://localhost:8080/"
        }
      },
      "source": [
        " len(indexList)"
      ],
      "execution_count": 110,
      "outputs": [
        {
          "output_type": "execute_result",
          "data": {
            "text/plain": [
              "50"
            ]
          },
          "metadata": {
            "tags": []
          },
          "execution_count": 110
        }
      ]
    }
  ]
}